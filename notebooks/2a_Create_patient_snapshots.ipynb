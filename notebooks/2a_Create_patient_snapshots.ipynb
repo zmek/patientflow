{
 "cells": [
  {
   "cell_type": "markdown",
   "metadata": {},
   "source": [
    "# Create patient-level snapshots\n",
    "\n",
    "## About snapshots\n",
    "\n",
    "I'm [Zella King](https://github.com/zmek/), a health data scientist in the Clinical Operational Research Unit (CORU) at University College London. Since 2020, I have worked with University College London Hospital (UCLH) on practical tools to improve patient flow through the hospital. With a team from UCLH, I developed a predictive tool that is now in daily use by bed managers at the hospital. \n",
    "\n",
    "The tool we built for UCLH takes a 'snapshot' of patients in the hospital at a point in time, and using data from the hospital's electronic record system, predicts the number of emergency admissions in the next 8 or 12 hours. We are working on predicting discharges in the same way. \n",
    "\n",
    "The key principle is that we take data on hospital visits that are unfinished, and predict whether some outcome (admission from A&E, discharge from hospital, or transfer to another clinical specialty) will happen to each of those patients in a window of time. What the outcome is doesn't really matter; the same methods can be used. \n",
    "\n",
    "The utility of our approach - and the thing that makes it very generalisable - is that we then build up from the patient-level predictions into a predictions for a whole cohort of patients at a point in time. That step is what creates useful information for bed managers.\n",
    "\n",
    "Here I show what I mean by a snapshot, and suggest how to prepare them. "
   ]
  },
  {
   "cell_type": "markdown",
   "metadata": {},
   "source": [
    "## How to create patient level snapshots\n",
    "\n",
    "Below is some fake data resembling the structure of data on ED visits that is typical of the data warehouse of an Electronic Health Record (EHR) system. Each visit has one row in visits_df, with the patient's age and an outcome of whether they were admitted after the ED visit. "
   ]
  },
  {
   "cell_type": "code",
   "execution_count": 1,
   "metadata": {},
   "outputs": [],
   "source": [
    "# Reload functions every time\n",
    "%load_ext autoreload \n",
    "%autoreload 2"
   ]
  },
  {
   "cell_type": "code",
   "execution_count": 6,
   "metadata": {},
   "outputs": [
    {
     "name": "stdout",
     "output_type": "stream",
     "text": [
      "There are 736 visits in the dataset, between 2023-01-01 07:06:59 and 2023-01-31 21:21:27\n"
     ]
    },
    {
     "data": {
      "text/html": [
       "<div>\n",
       "<style scoped>\n",
       "    .dataframe tbody tr th:only-of-type {\n",
       "        vertical-align: middle;\n",
       "    }\n",
       "\n",
       "    .dataframe tbody tr th {\n",
       "        vertical-align: top;\n",
       "    }\n",
       "\n",
       "    .dataframe thead th {\n",
       "        text-align: right;\n",
       "    }\n",
       "</style>\n",
       "<table border=\"1\" class=\"dataframe\">\n",
       "  <thead>\n",
       "    <tr style=\"text-align: right;\">\n",
       "      <th></th>\n",
       "      <th>visit_number</th>\n",
       "      <th>arrival_datetime</th>\n",
       "      <th>departure_datetime</th>\n",
       "      <th>is_admitted</th>\n",
       "      <th>age</th>\n",
       "    </tr>\n",
       "  </thead>\n",
       "  <tbody>\n",
       "    <tr>\n",
       "      <th>0</th>\n",
       "      <td>8</td>\n",
       "      <td>2023-01-01 07:06:59</td>\n",
       "      <td>2023-01-01 11:39:59</td>\n",
       "      <td>0</td>\n",
       "      <td>53</td>\n",
       "    </tr>\n",
       "    <tr>\n",
       "      <th>1</th>\n",
       "      <td>21</td>\n",
       "      <td>2023-01-01 08:10:28</td>\n",
       "      <td>2023-01-01 15:52:28</td>\n",
       "      <td>1</td>\n",
       "      <td>45</td>\n",
       "    </tr>\n",
       "    <tr>\n",
       "      <th>2</th>\n",
       "      <td>14</td>\n",
       "      <td>2023-01-01 08:34:49</td>\n",
       "      <td>2023-01-01 11:37:49</td>\n",
       "      <td>0</td>\n",
       "      <td>69</td>\n",
       "    </tr>\n",
       "    <tr>\n",
       "      <th>3</th>\n",
       "      <td>2</td>\n",
       "      <td>2023-01-01 09:14:25</td>\n",
       "      <td>2023-01-01 11:48:25</td>\n",
       "      <td>1</td>\n",
       "      <td>75</td>\n",
       "    </tr>\n",
       "    <tr>\n",
       "      <th>4</th>\n",
       "      <td>15</td>\n",
       "      <td>2023-01-01 09:22:21</td>\n",
       "      <td>2023-01-01 12:06:21</td>\n",
       "      <td>0</td>\n",
       "      <td>36</td>\n",
       "    </tr>\n",
       "  </tbody>\n",
       "</table>\n",
       "</div>"
      ],
      "text/plain": [
       "   visit_number    arrival_datetime  departure_datetime  is_admitted  age\n",
       "0             8 2023-01-01 07:06:59 2023-01-01 11:39:59            0   53\n",
       "1            21 2023-01-01 08:10:28 2023-01-01 15:52:28            1   45\n",
       "2            14 2023-01-01 08:34:49 2023-01-01 11:37:49            0   69\n",
       "3             2 2023-01-01 09:14:25 2023-01-01 11:48:25            1   75\n",
       "4            15 2023-01-01 09:22:21 2023-01-01 12:06:21            0   36"
      ]
     },
     "execution_count": 6,
     "metadata": {},
     "output_type": "execute_result"
    }
   ],
   "source": [
    "from patientflow.generate import patient_visits\n",
    "visits_df, observations_df, lab_orders_df = patient_visits('2023-01-01', '2023-01-31', 25)\n",
    "\n",
    "print(f'There are {len(visits_df)} visits in the dataset, between {visits_df.arrival_datetime.min()} and {visits_df.arrival_datetime.max()}')\n",
    "visits_df.head()"
   ]
  },
  {
   "cell_type": "markdown",
   "metadata": {},
   "source": [
    "In an EHR, information about the patient accumulates as the ED visit progresses. Patients may visit various locations in the ED, such as triage, where their acuity is recorded, and they have various different things done to them, like measurements of vital signs or lab tests. \n",
    "\n",
    "The function above returns a observations_df table, with a single measurement - a triage score - plus a timestamp for when that was recorded. In the observations_df dataframe, every visit has a triage score within 10 minutes of arrival."
   ]
  },
  {
   "cell_type": "code",
   "execution_count": 7,
   "metadata": {},
   "outputs": [
    {
     "name": "stdout",
     "output_type": "stream",
     "text": [
      "There are 736 triage scores in the observations_df dataframe, for 736 visits\n"
     ]
    },
    {
     "data": {
      "text/html": [
       "<div>\n",
       "<style scoped>\n",
       "    .dataframe tbody tr th:only-of-type {\n",
       "        vertical-align: middle;\n",
       "    }\n",
       "\n",
       "    .dataframe tbody tr th {\n",
       "        vertical-align: top;\n",
       "    }\n",
       "\n",
       "    .dataframe thead th {\n",
       "        text-align: right;\n",
       "    }\n",
       "</style>\n",
       "<table border=\"1\" class=\"dataframe\">\n",
       "  <thead>\n",
       "    <tr style=\"text-align: right;\">\n",
       "      <th></th>\n",
       "      <th>visit_number</th>\n",
       "      <th>observation_datetime</th>\n",
       "      <th>triage_score</th>\n",
       "    </tr>\n",
       "  </thead>\n",
       "  <tbody>\n",
       "    <tr>\n",
       "      <th>0</th>\n",
       "      <td>8</td>\n",
       "      <td>2023-01-01 07:16:56.752220</td>\n",
       "      <td>2</td>\n",
       "    </tr>\n",
       "    <tr>\n",
       "      <th>1</th>\n",
       "      <td>21</td>\n",
       "      <td>2023-01-01 08:14:42.082565</td>\n",
       "      <td>1</td>\n",
       "    </tr>\n",
       "    <tr>\n",
       "      <th>2</th>\n",
       "      <td>14</td>\n",
       "      <td>2023-01-01 08:42:47.977107</td>\n",
       "      <td>4</td>\n",
       "    </tr>\n",
       "    <tr>\n",
       "      <th>3</th>\n",
       "      <td>15</td>\n",
       "      <td>2023-01-01 09:22:44.300841</td>\n",
       "      <td>3</td>\n",
       "    </tr>\n",
       "    <tr>\n",
       "      <th>4</th>\n",
       "      <td>2</td>\n",
       "      <td>2023-01-01 09:23:29.539884</td>\n",
       "      <td>1</td>\n",
       "    </tr>\n",
       "  </tbody>\n",
       "</table>\n",
       "</div>"
      ],
      "text/plain": [
       "   visit_number       observation_datetime  triage_score\n",
       "0             8 2023-01-01 07:16:56.752220             2\n",
       "1            21 2023-01-01 08:14:42.082565             1\n",
       "2            14 2023-01-01 08:42:47.977107             4\n",
       "3            15 2023-01-01 09:22:44.300841             3\n",
       "4             2 2023-01-01 09:23:29.539884             1"
      ]
     },
     "execution_count": 7,
     "metadata": {},
     "output_type": "execute_result"
    }
   ],
   "source": [
    "print(f'There are {len(observations_df)} triage scores in the observations_df dataframe, for {len(observations_df.visit_number.unique())} visits')\n",
    "observations_df.head()"
   ]
  },
  {
   "cell_type": "markdown",
   "metadata": {},
   "source": [
    "Some patients might have a lab test ordered. In the fake data, this has been set up so that orders are placed within 90 minutes of arrival. "
   ]
  },
  {
   "cell_type": "code",
   "execution_count": 8,
   "metadata": {},
   "outputs": [
    {
     "name": "stdout",
     "output_type": "stream",
     "text": [
      "There are 1811 lab orders in the dataset, for 621 visits\n"
     ]
    },
    {
     "data": {
      "text/html": [
       "<div>\n",
       "<style scoped>\n",
       "    .dataframe tbody tr th:only-of-type {\n",
       "        vertical-align: middle;\n",
       "    }\n",
       "\n",
       "    .dataframe tbody tr th {\n",
       "        vertical-align: top;\n",
       "    }\n",
       "\n",
       "    .dataframe thead th {\n",
       "        text-align: right;\n",
       "    }\n",
       "</style>\n",
       "<table border=\"1\" class=\"dataframe\">\n",
       "  <thead>\n",
       "    <tr style=\"text-align: right;\">\n",
       "      <th></th>\n",
       "      <th>visit_number</th>\n",
       "      <th>order_datetime</th>\n",
       "      <th>lab_name</th>\n",
       "    </tr>\n",
       "  </thead>\n",
       "  <tbody>\n",
       "    <tr>\n",
       "      <th>0</th>\n",
       "      <td>8</td>\n",
       "      <td>2023-01-01 07:39:15.961554</td>\n",
       "      <td>Troponin</td>\n",
       "    </tr>\n",
       "    <tr>\n",
       "      <th>1</th>\n",
       "      <td>21</td>\n",
       "      <td>2023-01-01 08:25:39.163370</td>\n",
       "      <td>BMP</td>\n",
       "    </tr>\n",
       "    <tr>\n",
       "      <th>2</th>\n",
       "      <td>8</td>\n",
       "      <td>2023-01-01 08:27:35.390640</td>\n",
       "      <td>BMP</td>\n",
       "    </tr>\n",
       "    <tr>\n",
       "      <th>3</th>\n",
       "      <td>21</td>\n",
       "      <td>2023-01-01 08:35:09.882306</td>\n",
       "      <td>Urinalysis</td>\n",
       "    </tr>\n",
       "    <tr>\n",
       "      <th>4</th>\n",
       "      <td>21</td>\n",
       "      <td>2023-01-01 09:04:05.742878</td>\n",
       "      <td>CBC</td>\n",
       "    </tr>\n",
       "  </tbody>\n",
       "</table>\n",
       "</div>"
      ],
      "text/plain": [
       "   visit_number             order_datetime    lab_name\n",
       "0             8 2023-01-01 07:39:15.961554    Troponin\n",
       "1            21 2023-01-01 08:25:39.163370         BMP\n",
       "2             8 2023-01-01 08:27:35.390640         BMP\n",
       "3            21 2023-01-01 08:35:09.882306  Urinalysis\n",
       "4            21 2023-01-01 09:04:05.742878         CBC"
      ]
     },
     "execution_count": 8,
     "metadata": {},
     "output_type": "execute_result"
    }
   ],
   "source": [
    "print(f'There are {len(lab_orders_df)} lab orders in the dataset, for {len(lab_orders_df.visit_number.unique())} visits')\n",
    "lab_orders_df.head()"
   ]
  },
  {
   "cell_type": "markdown",
   "metadata": {},
   "source": [
    "Our goal is to create snapshots of these visits at a point in time. First, we define the times of day we will be issuing predictions at. "
   ]
  },
  {
   "cell_type": "code",
   "execution_count": 9,
   "metadata": {},
   "outputs": [],
   "source": [
    "prediction_times = [(6, 0), (9, 30), (12, 0), (15, 30), (22, 0)] # each time is expressed as a tuple of (hour, minute)"
   ]
  },
  {
   "cell_type": "markdown",
   "metadata": {},
   "source": [
    "Then we iterate through the dataset at these times, to create a series of snapshots. I'm deliberately exposing the code here so that you can see how this is done. Each snapshot summarises what is know about the patient at the time of the snapshot. The latest triage score is recorded, and a count of each type of lab orders."
   ]
  },
  {
   "cell_type": "markdown",
   "metadata": {},
   "source": []
  },
  {
   "cell_type": "markdown",
   "metadata": {},
   "source": []
  },
  {
   "cell_type": "code",
   "execution_count": 10,
   "metadata": {},
   "outputs": [
    {
     "data": {
      "text/html": [
       "<div>\n",
       "<style scoped>\n",
       "    .dataframe tbody tr th:only-of-type {\n",
       "        vertical-align: middle;\n",
       "    }\n",
       "\n",
       "    .dataframe tbody tr th {\n",
       "        vertical-align: top;\n",
       "    }\n",
       "\n",
       "    .dataframe thead th {\n",
       "        text-align: right;\n",
       "    }\n",
       "</style>\n",
       "<table border=\"1\" class=\"dataframe\">\n",
       "  <thead>\n",
       "    <tr style=\"text-align: right;\">\n",
       "      <th></th>\n",
       "      <th>snapshot_date</th>\n",
       "      <th>prediction_time</th>\n",
       "      <th>snapshot_datetime</th>\n",
       "      <th>visit_number</th>\n",
       "      <th>arrival_datetime</th>\n",
       "      <th>departure_datetime</th>\n",
       "      <th>is_admitted</th>\n",
       "      <th>latest_triage_score</th>\n",
       "      <th>num_troponin_orders</th>\n",
       "      <th>num_bmp_orders</th>\n",
       "      <th>num_urinalysis_orders</th>\n",
       "      <th>num_cbc_orders</th>\n",
       "      <th>num_d-dimer_orders</th>\n",
       "    </tr>\n",
       "  </thead>\n",
       "  <tbody>\n",
       "    <tr>\n",
       "      <th>0</th>\n",
       "      <td>2023-01-01</td>\n",
       "      <td>(9, 30)</td>\n",
       "      <td>2023-01-01 09:30:00</td>\n",
       "      <td>8</td>\n",
       "      <td>2023-01-01 07:06:59</td>\n",
       "      <td>2023-01-01 11:39:59</td>\n",
       "      <td>0</td>\n",
       "      <td>2.0</td>\n",
       "      <td>1</td>\n",
       "      <td>1</td>\n",
       "      <td>0</td>\n",
       "      <td>0</td>\n",
       "      <td>0</td>\n",
       "    </tr>\n",
       "    <tr>\n",
       "      <th>1</th>\n",
       "      <td>2023-01-01</td>\n",
       "      <td>(9, 30)</td>\n",
       "      <td>2023-01-01 09:30:00</td>\n",
       "      <td>21</td>\n",
       "      <td>2023-01-01 08:10:28</td>\n",
       "      <td>2023-01-01 15:52:28</td>\n",
       "      <td>1</td>\n",
       "      <td>1.0</td>\n",
       "      <td>1</td>\n",
       "      <td>1</td>\n",
       "      <td>1</td>\n",
       "      <td>1</td>\n",
       "      <td>0</td>\n",
       "    </tr>\n",
       "    <tr>\n",
       "      <th>2</th>\n",
       "      <td>2023-01-01</td>\n",
       "      <td>(9, 30)</td>\n",
       "      <td>2023-01-01 09:30:00</td>\n",
       "      <td>14</td>\n",
       "      <td>2023-01-01 08:34:49</td>\n",
       "      <td>2023-01-01 11:37:49</td>\n",
       "      <td>0</td>\n",
       "      <td>4.0</td>\n",
       "      <td>0</td>\n",
       "      <td>0</td>\n",
       "      <td>0</td>\n",
       "      <td>0</td>\n",
       "      <td>0</td>\n",
       "    </tr>\n",
       "    <tr>\n",
       "      <th>3</th>\n",
       "      <td>2023-01-01</td>\n",
       "      <td>(9, 30)</td>\n",
       "      <td>2023-01-01 09:30:00</td>\n",
       "      <td>2</td>\n",
       "      <td>2023-01-01 09:14:25</td>\n",
       "      <td>2023-01-01 11:48:25</td>\n",
       "      <td>1</td>\n",
       "      <td>1.0</td>\n",
       "      <td>0</td>\n",
       "      <td>0</td>\n",
       "      <td>0</td>\n",
       "      <td>0</td>\n",
       "      <td>0</td>\n",
       "    </tr>\n",
       "    <tr>\n",
       "      <th>4</th>\n",
       "      <td>2023-01-01</td>\n",
       "      <td>(9, 30)</td>\n",
       "      <td>2023-01-01 09:30:00</td>\n",
       "      <td>15</td>\n",
       "      <td>2023-01-01 09:22:21</td>\n",
       "      <td>2023-01-01 12:06:21</td>\n",
       "      <td>0</td>\n",
       "      <td>3.0</td>\n",
       "      <td>0</td>\n",
       "      <td>0</td>\n",
       "      <td>0</td>\n",
       "      <td>0</td>\n",
       "      <td>0</td>\n",
       "    </tr>\n",
       "  </tbody>\n",
       "</table>\n",
       "</div>"
      ],
      "text/plain": [
       "  snapshot_date prediction_time   snapshot_datetime  visit_number  \\\n",
       "0    2023-01-01         (9, 30) 2023-01-01 09:30:00             8   \n",
       "1    2023-01-01         (9, 30) 2023-01-01 09:30:00            21   \n",
       "2    2023-01-01         (9, 30) 2023-01-01 09:30:00            14   \n",
       "3    2023-01-01         (9, 30) 2023-01-01 09:30:00             2   \n",
       "4    2023-01-01         (9, 30) 2023-01-01 09:30:00            15   \n",
       "\n",
       "     arrival_datetime  departure_datetime  is_admitted  latest_triage_score  \\\n",
       "0 2023-01-01 07:06:59 2023-01-01 11:39:59            0                  2.0   \n",
       "1 2023-01-01 08:10:28 2023-01-01 15:52:28            1                  1.0   \n",
       "2 2023-01-01 08:34:49 2023-01-01 11:37:49            0                  4.0   \n",
       "3 2023-01-01 09:14:25 2023-01-01 11:48:25            1                  1.0   \n",
       "4 2023-01-01 09:22:21 2023-01-01 12:06:21            0                  3.0   \n",
       "\n",
       "   num_troponin_orders  num_bmp_orders  num_urinalysis_orders  num_cbc_orders  \\\n",
       "0                    1               1                      0               0   \n",
       "1                    1               1                      1               1   \n",
       "2                    0               0                      0               0   \n",
       "3                    0               0                      0               0   \n",
       "4                    0               0                      0               0   \n",
       "\n",
       "   num_d-dimer_orders  \n",
       "0                   0  \n",
       "1                   0  \n",
       "2                   0  \n",
       "3                   0  \n",
       "4                   0  "
      ]
     },
     "execution_count": 10,
     "metadata": {},
     "output_type": "execute_result"
    }
   ],
   "source": [
    "from datetime import date\n",
    "start_date = date(2023, 1, 1)\n",
    "end_date = date(2023, 1, 31)\n",
    "\n",
    "from patientflow.generate import create_snapshots\n",
    "\n",
    "# Create snapshots\n",
    "snapshots_df = create_snapshots(visits_df, observations_df, lab_orders_df, prediction_times, start_date, end_date)\n",
    "snapshots_df.head()"
   ]
  },
  {
   "cell_type": "markdown",
   "metadata": {},
   "source": [
    "## Train a model to predict the outcome of each snapshot\n"
   ]
  },
  {
   "cell_type": "code",
   "execution_count": 11,
   "metadata": {},
   "outputs": [],
   "source": [
    "import pandas as pd\n",
    "import numpy as np\n",
    "from xgboost import XGBClassifier\n",
    "from sklearn.model_selection import train_test_split\n",
    "from sklearn.metrics import accuracy_score, classification_report, confusion_matrix\n",
    "from sklearn.preprocessing import OrdinalEncoder\n",
    "from typing import Dict, List, Tuple, Any\n",
    "\n",
    "def train_admission_model(\n",
    "    snapshots_df: pd.DataFrame,\n",
    "    prediction_time: Tuple[int, int],\n",
    "    exclude_from_training_data: List[str],\n",
    "    ordinal_mappings: Dict[str, List[Any]]\n",
    "):\n",
    "    \"\"\"\n",
    "    Train an XGBoost model to predict patient admission based on filtered data.\n",
    "    \n",
    "    Parameters:\n",
    "    -----------\n",
    "    snapshots_df : pandas.DataFrame\n",
    "        DataFrame containing patient snapshot data\n",
    "    prediction_time : Tuple[int, int]\n",
    "        The specific (hour, minute) tuple to filter training data by\n",
    "    exclude_from_training_data : List[str]\n",
    "        List of column names to exclude from model training\n",
    "    ordinal_mappings : Dict[str, List[Any]]\n",
    "        Dictionary mapping column names to ordered categories for ordinal encoding\n",
    "    \n",
    "    Returns:\n",
    "    --------\n",
    "    tuple\n",
    "        (trained_model, X_test, y_test, accuracy, feature_importances)\n",
    "    \"\"\"\n",
    "    # Filter data for the specific prediction time\n",
    "    filtered_df = snapshots_df[snapshots_df['prediction_time'].apply(lambda x: x == prediction_time)]\n",
    "    \n",
    "    if filtered_df.empty:\n",
    "        raise ValueError(f\"No data found for prediction time {prediction_time}\")\n",
    "    \n",
    "    # Prepare feature columns - exclude specified columns and target variable\n",
    "    all_columns = filtered_df.columns.tolist()\n",
    "    exclude_cols = exclude_from_training_data + ['is_admitted', 'prediction_time', 'snapshot_date', 'snapshot_datetime']\n",
    "    feature_cols = [col for col in all_columns if col not in exclude_cols]\n",
    "    \n",
    "    # Create feature matrix\n",
    "    X = filtered_df[feature_cols].copy()\n",
    "    y = filtered_df['is_admitted']\n",
    "    \n",
    "    # Apply ordinal encoding to categorical features\n",
    "    for col, categories in ordinal_mappings.items():\n",
    "        if col in X.columns:\n",
    "            # Create an ordinal encoder with the specified categories\n",
    "            encoder = OrdinalEncoder(categories=[categories], handle_unknown='use_encoded_value', unknown_value=np.nan)\n",
    "            # Reshape the data for encoding and back\n",
    "            X[col] = encoder.fit_transform(X[[col]])\n",
    "    \n",
    "    # One-hot encode any remaining categorical columns\n",
    "    X = pd.get_dummies(X)\n",
    "    \n",
    "    # Split data into training and testing sets\n",
    "    X_train, X_test, y_train, y_test = train_test_split(\n",
    "        X, y, test_size=0.3, random_state=42\n",
    "    )\n",
    "    \n",
    "    # Initialize and train the XGBoost model with default settings\n",
    "    model = XGBClassifier(\n",
    "        random_state=42\n",
    "    )\n",
    "    model.fit(X_train, y_train)\n",
    "    \n",
    "    # Evaluate the model\n",
    "    y_pred = model.predict(X_test)\n",
    "    accuracy = accuracy_score(y_test, y_pred)\n",
    "    \n",
    "    # Get feature importances\n",
    "    feature_importances = pd.DataFrame({\n",
    "        'Feature': X.columns,\n",
    "        'Importance': model.feature_importances_\n",
    "    }).sort_values('Importance', ascending=False)\n",
    "    \n",
    "    # Return the model, test data, and feature importances\n",
    "    return model, X_test, y_test, accuracy, feature_importances"
   ]
  },
  {
   "cell_type": "markdown",
   "metadata": {},
   "source": [
    "Let's train a model to predict admission for the 9:30 prediction time. We will specify that the triage scores are ordinal, and make use of sklearn's OrdinalEncoder to maintain the natural order of categories. We also need to include columns that are not relevant to the snapshot. "
   ]
  },
  {
   "cell_type": "code",
   "execution_count": 15,
   "metadata": {},
   "outputs": [],
   "source": [
    "\n",
    "model, X_test, y_test, accuracy, feature_importances = train_admission_model(\n",
    "    snapshots_df,\n",
    "    prediction_time=(9, 30),\n",
    "    exclude_from_training_data=['visit_number', 'arrival_datetime', 'departure_datetime'],\n",
    "    ordinal_mappings={'latest_triage_score': [1, 2, 3, 4, 5]}\n",
    ")"
   ]
  },
  {
   "cell_type": "code",
   "execution_count": 16,
   "metadata": {},
   "outputs": [
    {
     "data": {
      "text/html": [
       "<div>\n",
       "<style scoped>\n",
       "    .dataframe tbody tr th:only-of-type {\n",
       "        vertical-align: middle;\n",
       "    }\n",
       "\n",
       "    .dataframe tbody tr th {\n",
       "        vertical-align: top;\n",
       "    }\n",
       "\n",
       "    .dataframe thead th {\n",
       "        text-align: right;\n",
       "    }\n",
       "</style>\n",
       "<table border=\"1\" class=\"dataframe\">\n",
       "  <thead>\n",
       "    <tr style=\"text-align: right;\">\n",
       "      <th></th>\n",
       "      <th>Feature</th>\n",
       "      <th>Importance</th>\n",
       "    </tr>\n",
       "  </thead>\n",
       "  <tbody>\n",
       "    <tr>\n",
       "      <th>0</th>\n",
       "      <td>latest_triage_score</td>\n",
       "      <td>0.513054</td>\n",
       "    </tr>\n",
       "    <tr>\n",
       "      <th>3</th>\n",
       "      <td>num_urinalysis_orders</td>\n",
       "      <td>0.179355</td>\n",
       "    </tr>\n",
       "    <tr>\n",
       "      <th>5</th>\n",
       "      <td>num_d-dimer_orders</td>\n",
       "      <td>0.102420</td>\n",
       "    </tr>\n",
       "    <tr>\n",
       "      <th>1</th>\n",
       "      <td>num_troponin_orders</td>\n",
       "      <td>0.084515</td>\n",
       "    </tr>\n",
       "    <tr>\n",
       "      <th>2</th>\n",
       "      <td>num_bmp_orders</td>\n",
       "      <td>0.076452</td>\n",
       "    </tr>\n",
       "    <tr>\n",
       "      <th>4</th>\n",
       "      <td>num_cbc_orders</td>\n",
       "      <td>0.044204</td>\n",
       "    </tr>\n",
       "  </tbody>\n",
       "</table>\n",
       "</div>"
      ],
      "text/plain": [
       "                 Feature  Importance\n",
       "0    latest_triage_score    0.513054\n",
       "3  num_urinalysis_orders    0.179355\n",
       "5     num_d-dimer_orders    0.102420\n",
       "1    num_troponin_orders    0.084515\n",
       "2         num_bmp_orders    0.076452\n",
       "4         num_cbc_orders    0.044204"
      ]
     },
     "execution_count": 16,
     "metadata": {},
     "output_type": "execute_result"
    }
   ],
   "source": [
    "feature_importances"
   ]
  },
  {
   "cell_type": "markdown",
   "metadata": {},
   "source": [
    "The output below shows the predicted probability for the first patient in the test set"
   ]
  },
  {
   "cell_type": "code",
   "execution_count": 15,
   "metadata": {},
   "outputs": [
    {
     "name": "stdout",
     "output_type": "stream",
     "text": [
      "The predicted probability of admission for the first patient is 0.13\n"
     ]
    }
   ],
   "source": [
    "print(f\"The predicted probability of admission for the first patient is {model.predict_proba(X_test)[0][1]:.2f}\")"
   ]
  },
  {
   "cell_type": "markdown",
   "metadata": {},
   "source": [
    "## Conclusion\n",
    "\n",
    "Here I have shown \n",
    "\n",
    "* how to create snapshots from finished patient visits\n",
    "* how to train a very simple model to predict admission at the end of the snapshot. \n",
    "\n",
    "This creates a predicted probability of admission for each patient, based on what is known about them at the time of the snapshot. However, bed managers really want predictions for the whole cohort of patients in the ED at a point in time. This is where `patientflow` comes into its own. In the next notebook, I show how to do this. "
   ]
  },
  {
   "cell_type": "markdown",
   "metadata": {},
   "source": []
  }
 ],
 "metadata": {
  "kernelspec": {
   "display_name": "patientflow",
   "language": "python",
   "name": "python3"
  },
  "language_info": {
   "codemirror_mode": {
    "name": "ipython",
    "version": 3
   },
   "file_extension": ".py",
   "mimetype": "text/x-python",
   "name": "python",
   "nbconvert_exporter": "python",
   "pygments_lexer": "ipython3",
   "version": "3.12.8"
  }
 },
 "nbformat": 4,
 "nbformat_minor": 2
}

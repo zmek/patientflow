{
 "cells": [
  {
   "cell_type": "markdown",
   "metadata": {},
   "source": [
    "# Set up your environment\n",
    "\n",
    "Skip this notebook if you are just browsing. \n",
    "\n",
    "In this notebook I will explain where the code looks for data and saves models and media by default, and suggest how to set up your environment. There are two README files that may be useful:\n",
    "\n",
    "* [Repository README](/README.md) in the root of the repository\n",
    "* [Notebooks README](README.md) in this folder"
   ]
  },
  {
   "cell_type": "markdown",
   "metadata": {},
   "source": [
    "## Set notebook to reload functions every time a cell is fun\n",
    "\n",
    "This is useful if you make any changes to any underlying code"
   ]
  },
  {
   "cell_type": "code",
   "execution_count": 1,
   "metadata": {},
   "outputs": [],
   "source": [
    "# Reload functions every time\n",
    "%load_ext autoreload \n",
    "%autoreload 2"
   ]
  },
  {
   "cell_type": "markdown",
   "metadata": {},
   "source": [
    "## Check that the patientflow package has been installed"
   ]
  },
  {
   "cell_type": "code",
   "execution_count": 2,
   "metadata": {},
   "outputs": [
    {
     "name": "stdout",
     "output_type": "stream",
     "text": [
      "✓ patientflow 0.1.0 imported successfully\n"
     ]
    }
   ],
   "source": [
    "try:\n",
    "   import patientflow\n",
    "   print(f\"✓ patientflow {patientflow.__version__} imported successfully\")\n",
    "except ImportError:\n",
    "   print(\"❌ patientflow not found - please check installation instructions in README\")\n",
    "   print(\"   pip install -e '.[test]'\")\n",
    "except Exception as e:\n",
    "   print(f\"❌ Error: {e}\")"
   ]
  },
  {
   "cell_type": "markdown",
   "metadata": {},
   "source": [
    "## Set project_root variable \n",
    "\n",
    "The variable called project_root tells the notebooks where the patientflow repository resides on your computer. All paths in the notebooks are set relative to project_root. There are various ways to set it, which are described in the notebooks [README](README.md). "
   ]
  },
  {
   "cell_type": "code",
   "execution_count": 2,
   "metadata": {},
   "outputs": [
    {
     "name": "stdout",
     "output_type": "stream",
     "text": [
      "Inferred project root: /Users/zellaking/Repos/patientflow\n"
     ]
    }
   ],
   "source": [
    "from patientflow.load import set_project_root\n",
    "project_root = set_project_root()"
   ]
  },
  {
   "cell_type": "markdown",
   "metadata": {},
   "source": [
    "## Set file paths\n",
    "\n",
    "Now that you have set the project root, you can specify where the data will be loaded from, where images and models are saved, and where to load the config file from. By default, a function called `set_file_paths()` sets these as shown here. "
   ]
  },
  {
   "cell_type": "code",
   "execution_count": 12,
   "metadata": {},
   "outputs": [
    {
     "name": "stdout",
     "output_type": "stream",
     "text": [
      "patientflow version: 0.1.0\n",
      "Repository root: /Users/zellaking/Repos/patientflow\n",
      "✓ Synthetic data found\n"
     ]
    }
   ],
   "source": [
    "# Basic checks\n",
    "print(f\"patientflow version: {patientflow.__version__}\")\n",
    "print(f\"Repository root: {project_root}\")\n",
    "\n",
    "# Verify data access\n",
    "data_folder_name = 'data-synthetic'\n",
    "data_file_path = project_root / data_folder_name\n",
    "if data_file_path.exists():\n",
    "    print(\"✓ Synthetic data found\")\n",
    "else:\n",
    "    print(\"Synthetic data not found - check repository structure\")"
   ]
  },
  {
   "cell_type": "markdown",
   "metadata": {},
   "source": [
    "The function will set file paths to default values, as shown here. You can override these as required. "
   ]
  },
  {
   "cell_type": "code",
   "execution_count": 13,
   "metadata": {},
   "outputs": [
    {
     "name": "stdout",
     "output_type": "stream",
     "text": [
      "Configuration will be loaded from: /Users/zellaking/Repos/patientflow/config.yaml\n",
      "Data files will be loaded from: /Users/zellaking/Repos/patientflow/data-synthetic\n",
      "Trained models will be saved to: /Users/zellaking/Repos/patientflow/trained-models/synthetic\n",
      "Images will be saved to: /Users/zellaking/Repos/patientflow/trained-models/synthetic/media\n"
     ]
    }
   ],
   "source": [
    "from patientflow.load import set_file_paths\n",
    "data_file_path, media_file_path, model_file_path, config_path = set_file_paths(project_root, \n",
    "               data_folder_name=data_folder_name)"
   ]
  },
  {
   "cell_type": "markdown",
   "metadata": {},
   "source": [
    "## Summary\n",
    "\n",
    "In this notebook you have seen \n",
    "\n",
    "* how to configure your environment to run these notebooks\n",
    "* where the notebooks expect to find data, and where they will save models and media, by default\n",
    "\n",
    "Now you are ready to explore the data that has been provided with this repository"
   ]
  },
  {
   "cell_type": "markdown",
   "metadata": {},
   "source": []
  }
 ],
 "metadata": {
  "kernelspec": {
   "display_name": "patientflow",
   "language": "python",
   "name": "python3"
  },
  "language_info": {
   "codemirror_mode": {
    "name": "ipython",
    "version": 3
   },
   "file_extension": ".py",
   "mimetype": "text/x-python",
   "name": "python",
   "nbconvert_exporter": "python",
   "pygments_lexer": "ipython3",
   "version": "3.12.8"
  }
 },
 "nbformat": 4,
 "nbformat_minor": 2
}
